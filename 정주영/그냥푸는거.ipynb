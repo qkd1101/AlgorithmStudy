{
 "cells": [
  {
   "cell_type": "markdown",
   "metadata": {},
   "source": [
    "# 그냥 혼자 푸는거"
   ]
  },
  {
   "cell_type": "markdown",
   "metadata": {},
   "source": [
    "### 01. 구명 보트"
   ]
  },
  {
   "cell_type": "markdown",
   "metadata": {},
   "source": [
    "1차 - 실패, 효율성 1,3 번 불통"
   ]
  },
  {
   "cell_type": "code",
   "execution_count": null,
   "metadata": {},
   "outputs": [],
   "source": [
    "def solution(people, limit):\n",
    "    answer = 0\n",
    "    people.sort()\n",
    "    while people:\n",
    "        if len(people) == 1 : return 1\n",
    "        flag = 1\n",
    "        for k in range(len(people)-1,0,-1):\n",
    "            if people[k] + people[0] <= limit:\n",
    "                answer += 1\n",
    "                people.remove(people[k])\n",
    "                people.remove(people[0])\n",
    "                flag = 0\n",
    "        if flag == 1:\n",
    "            return answer + len(people)\n",
    "    return answer\n"
   ]
  },
  {
   "cell_type": "markdown",
   "metadata": {},
   "source": [
    "> remove 등 사용 하면 아니 될듯.   \n",
    "> 시간복잡도에서 손해"
   ]
  },
  {
   "cell_type": "code",
   "execution_count": null,
   "metadata": {},
   "outputs": [],
   "source": [
    "def solution(people, limit):\n",
    "    answer = 0\n",
    "    people.sort()\n",
    "    l = 0\n",
    "    r = len(people)-1\n",
    "    while l<r:\n",
    "        if people[r] + people[l] <= limit:\n",
    "            answer += 1\n",
    "            r -= 1\n",
    "            l += 1\n",
    "        else :\n",
    "            answer += 1\n",
    "            r -= 1\n",
    "    if r == l: answer += 1\n",
    "    return answer"
   ]
  },
  {
   "cell_type": "markdown",
   "metadata": {},
   "source": [
    "> 성공, 인덱스에서 처리하면 됨."
   ]
  }
 ],
 "metadata": {
  "language_info": {
   "name": "python"
  },
  "orig_nbformat": 4
 },
 "nbformat": 4,
 "nbformat_minor": 2
}
