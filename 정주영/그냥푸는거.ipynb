{
 "cells": [
  {
   "cell_type": "markdown",
   "metadata": {},
   "source": [
    "# 그냥 혼자 푸는거"
   ]
  },
  {
   "cell_type": "markdown",
   "metadata": {},
   "source": [
    "### 01. 구명 보트"
   ]
  },
  {
   "cell_type": "markdown",
   "metadata": {},
   "source": [
    "1차 - 실패, 효율성 1,3 번 불통"
   ]
  },
  {
   "cell_type": "code",
   "execution_count": null,
   "metadata": {},
   "outputs": [],
   "source": [
    "def solution(people, limit):\n",
    "    answer = 0\n",
    "    people.sort()\n",
    "    while people:\n",
    "        if len(people) == 1 : return 1\n",
    "        flag = 1\n",
    "        for k in range(len(people)-1,0,-1):\n",
    "            if people[k] + people[0] <= limit:\n",
    "                answer += 1\n",
    "                people.remove(people[k])\n",
    "                people.remove(people[0])\n",
    "                flag = 0\n",
    "        if flag == 1:\n",
    "            return answer + len(people)\n",
    "    return answer\n"
   ]
  },
  {
   "cell_type": "markdown",
   "metadata": {},
   "source": [
    "> remove 등 사용 하면 아니 될듯.   \n",
    "> 시간복잡도에서 손해"
   ]
  },
  {
   "cell_type": "code",
   "execution_count": null,
   "metadata": {},
   "outputs": [],
   "source": [
    "def solution(people, limit):\n",
    "    answer = 0\n",
    "    people.sort()\n",
    "    l = 0\n",
    "    r = len(people)-1\n",
    "    while l<r:\n",
    "        if people[r] + people[l] <= limit:\n",
    "            answer += 1\n",
    "            r -= 1\n",
    "            l += 1\n",
    "        else :\n",
    "            answer += 1\n",
    "            r -= 1\n",
    "    if r == l: answer += 1\n",
    "    return answer"
   ]
  },
  {
   "cell_type": "markdown",
   "metadata": {},
   "source": [
    "> 성공, 인덱스에서 처리하면 됨."
   ]
  },
  {
   "cell_type": "markdown",
   "metadata": {},
   "source": [
    "### 02. 퇴사"
   ]
  },
  {
   "cell_type": "code",
   "execution_count": null,
   "metadata": {},
   "outputs": [],
   "source": [
    "N = int(input())\n",
    "n = []\n",
    "answer = []\n",
    "for _ in range(N):\n",
    "    a, b = input().split()\n",
    "    a, b = int(a), int(b)\n",
    "    n.append([a,b])\n",
    "print(n)\n",
    "for i in range(N):\n",
    "    cnt = 0\n",
    "    s = i\n",
    "    while True:\n",
    "        print(s)\n",
    "        if s >= N or s + n[s][0] > N:\n",
    "            answer.append(cnt)\n",
    "            break\n",
    "        cnt += n[s][1]\n",
    "        s += n[s][0]\n",
    "print(answer)"
   ]
  },
  {
   "cell_type": "markdown",
   "metadata": {},
   "source": [
    "### 03. 예상 대진표"
   ]
  },
  {
   "cell_type": "code",
   "execution_count": null,
   "metadata": {},
   "outputs": [],
   "source": [
    "import math\n",
    "\n",
    "def solution(n,a,b):\n",
    "    answer = 0\n",
    "    while a!=b:\n",
    "        answer += 1\n",
    "        a = math.ceil(a/2)\n",
    "        b = math.ceil(b/2)\n",
    "    return answer"
   ]
  }
 ],
 "metadata": {
  "interpreter": {
   "hash": "70bac338faa5f2ef65acb93ba578cb3617dd7616e8361b8dca185a5e0d4251f9"
  },
  "kernelspec": {
   "display_name": "Python 3.9.10 64-bit (windows store)",
   "language": "python",
   "name": "python3"
  },
  "language_info": {
   "codemirror_mode": {
    "name": "ipython",
    "version": 3
   },
   "file_extension": ".py",
   "mimetype": "text/x-python",
   "name": "python",
   "nbconvert_exporter": "python",
   "pygments_lexer": "ipython3",
   "version": "3.9.10"
  },
  "orig_nbformat": 4
 },
 "nbformat": 4,
 "nbformat_minor": 2
}
