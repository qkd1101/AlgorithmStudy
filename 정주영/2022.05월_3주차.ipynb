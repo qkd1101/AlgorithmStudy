{
 "cells": [
  {
   "cell_type": "markdown",
   "metadata": {},
   "source": [
    "# 2022.05.16. ~ 2022.05.22 #8"
   ]
  },
  {
   "cell_type": "markdown",
   "metadata": {},
   "source": [
    "### 1. 합승 택시 요금"
   ]
  },
  {
   "cell_type": "markdown",
   "metadata": {},
   "source": [
    "> 2가지 방법으로 풀이 가능함.   \n",
    "   \n",
    "플로이드 와셜"
   ]
  },
  {
   "cell_type": "code",
   "execution_count": null,
   "metadata": {},
   "outputs": [],
   "source": [
    "INF = 1e9\n",
    "\n",
    "def solution(n, s, A, B, fares):\n",
    "    answer = INF\n",
    "    graph = [[INF] * (n+1) for _ in range(n+1)]\n",
    "    for a in range(n+1):\n",
    "        graph[a][a] = 0\n",
    "    for f in fares:\n",
    "        graph[f[0]][f[1]] = f[2]\n",
    "        graph[f[1]][f[0]] = f[2]\n",
    "    for k in range(1,n+1):\n",
    "        for a in range(1,n+1):\n",
    "            for b in range(1,n+1):\n",
    "                graph[a][b] = min(graph[a][b],graph[a][k] + graph[k][b])\n",
    "    for i in range(1,n+1):\n",
    "       cost = graph[s][i] + graph[i][A] + graph[i][B]\n",
    "       answer = min(answer,cost)\n",
    "    return answer"
   ]
  },
  {
   "cell_type": "markdown",
   "metadata": {},
   "source": [
    "자료구조 : - | 알고리즘 : 플로이드 와셜. \n",
    "\n",
    "다익스트라   "
   ]
  },
  {
   "cell_type": "code",
   "execution_count": null,
   "metadata": {},
   "outputs": [],
   "source": [
    "import heapq\n",
    "INF = 1000001\n",
    "\n",
    "def dijkstra(start):\n",
    "    q = []\n",
    "    distance[start] = 0\n",
    "    heapq.heappush(q,[start,0])\n",
    "\n",
    "    while q:\n",
    "        now, dist = heapq.heappop(q)\n",
    "        if distance[now] < dist:\n",
    "            continue\n",
    "        for n,c in graph[now]:\n",
    "            cost = c + dist\n",
    "            if cost < distance[n]:\n",
    "                distance[n] = cost\n",
    "                heapq.heappush(q,[n,cost])\n",
    "    return distance\n",
    "def solution(n, s, a, b, fares):\n",
    "    answer = 0\n",
    "    global graph, distance\n",
    "    graph = [[] for _ in range(n+1)]\n",
    "    distance = [INF] * (n+1)\n",
    "    min = 10**9\n",
    "    for f in fares:\n",
    "        graph[f[0]].append([f[1],f[2]])\n",
    "        graph[f[1]].append([f[0],f[2]])\n",
    "    d1 = dijkstra(s)\n",
    "    for i in range(1,n+1):\n",
    "        distance = [INF] * (n+1)\n",
    "        d2 = dijkstra(i)\n",
    "        if min > d2[a] + d2[b] + d1[i]:\n",
    "            min = d2[a] + d2[b] + d1[i]\n",
    "            # print(d2[a],d2[b],d1[i],i)\n",
    "\n",
    "    return min"
   ]
  },
  {
   "cell_type": "markdown",
   "metadata": {},
   "source": [
    "자료구조 : 힙큐 | 알고리즘 : 다익스트라."
   ]
  },
  {
   "cell_type": "markdown",
   "metadata": {},
   "source": [
    "### 2. 입국심사"
   ]
  },
  {
   "cell_type": "markdown",
   "metadata": {},
   "source": [
    "이거 좀 어려웠음.   \n",
    "문제 푸는 방법은 어렵지 않았으나 그 과정에서 인풋케이스 확인 필요성을 느낌.   \n",
    "   \n",
    "high를 인풋 값 보고 결정해야함.   \n",
    "난 처음에 그냥 큰 값인 1e9를 넣었다가 안되었음.   \n",
    "인풋 제한 사항을 보고 1000000000 * 1000000000 을 한 1e18을 넣어야함.   \n",
    "   \n",
    "문제 푸는 구조 자체는 이분 탐색을 쓰면서 구간합 구해주면 끝.   \n",
    "   \n",
    "구간합은 사실 투포인터에서 자주 다뤄지지만,   \n",
    "여기서 말하는 것은 mid의 값이 얼마인지 searching만 해주면 되므로   \n",
    "구간합 구한다는 그 컨셉만 떠올리면 쉽게 풀듯.   "
   ]
  },
  {
   "cell_type": "code",
   "execution_count": null,
   "metadata": {},
   "outputs": [],
   "source": [
    "def solution(n, times):\n",
    "    times.sort()\n",
    "    answer = 1e18\n",
    "    low = 0\n",
    "    high = 1e18\n",
    "    \n",
    "    while low<=high:\n",
    "        interval_sum = 0\n",
    "        mid = (high+low)//2\n",
    "        \n",
    "        for i in times:\n",
    "            interval_sum += mid//i\n",
    "            if interval_sum >= n:\n",
    "                high = mid - 1\n",
    "                answer = min(answer,mid)\n",
    "                break\n",
    "                \n",
    "        if interval_sum < n :\n",
    "            low = mid + 1\n",
    "\n",
    "    return answer"
   ]
  },
  {
   "cell_type": "markdown",
   "metadata": {},
   "source": [
    "자료구조 :  | 알고리즘 : 이분탐색."
   ]
  },
  {
   "cell_type": "markdown",
   "metadata": {},
   "source": [
    "### 3.칫솔 다단계 판매"
   ]
  }
 ],
 "metadata": {
  "language_info": {
   "name": "python"
  },
  "orig_nbformat": 4
 },
 "nbformat": 4,
 "nbformat_minor": 2
}
