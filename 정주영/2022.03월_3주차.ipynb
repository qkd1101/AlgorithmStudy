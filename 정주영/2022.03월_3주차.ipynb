{
 "cells": [
  {
   "cell_type": "markdown",
   "metadata": {},
   "source": [
    "# 2022.03.12 ~ 2022.03.19 3월 3주차"
   ]
  },
  {
   "cell_type": "markdown",
   "metadata": {},
   "source": [
    "### 02. 순위 Lv2"
   ]
  },
  {
   "cell_type": "code",
   "execution_count": null,
   "metadata": {},
   "outputs": [],
   "source": [
    "from collections import deque\n",
    "\n",
    "def bfs(graph,v,n):\n",
    "    queue = deque([v])\n",
    "    visited = [False]*(n+1)\n",
    "    visited[v] = True\n",
    "    while queue:\n",
    "        t = queue.popleft()\n",
    "        for i in graph[t]:\n",
    "            if not visited[i]:\n",
    "                queue.append(i)\n",
    "                visited[i] = True\n",
    "    return visited.count(True)\n",
    "\n",
    "def solution(n, results):\n",
    "    answer = 0\n",
    "    graph_los = [[] for _ in range(n+1)]\n",
    "    graph_win = [[] for _ in range(n+1)]\n",
    "    for r in results:\n",
    "        graph_los[r[1]].append(r[0])\n",
    "        graph_win[r[0]].append(r[1])\n",
    "    for i in range(1,n+1):\n",
    "        if len(graph_los[i]) + len(graph_win[i]) == n-1:\n",
    "            break\n",
    "    # print(graph_win)\n",
    "    # print(graph_los)\n",
    "    \n",
    "    for i in range(1,n+1):\n",
    "        win_cnt = bfs(graph_win,i,n) - 1\n",
    "        los_cnt = bfs(graph_los,i,n) - 1\n",
    "        # print(win_cnt, los_cnt)\n",
    "        if win_cnt + los_cnt == n-1:\n",
    "            answer += 1\n",
    "    return answer"
   ]
  },
  {
   "cell_type": "markdown",
   "metadata": {},
   "source": [
    "n번 선수가 이긴 정보는 graph_win[n]에 담기고,   \n",
    "n번 선수가 진 정보는 graph_los[n]에 담긴다.   \n",
    "여기서, graph_win/graph_los를 각각 DFS 혹은 BFS로 돌리면,   \n",
    "자기가 이겼다고 확정되는 사람과 졌다고 확정되는 사람이 몇명인지 각각 나온다.   \n",
    "   \n",
    "예를들어,   \n",
    "   \n",
    "문제의 입출력에서   \n",
    "[[], [2], [5], [2], [3, 2], []] :   win 그래프   \n",
    "[[], [], [4, 3, 1], [4], [], [2]] : loss 그래프   \n",
    "   \n",
    "5번선수가 졌다고 확정지을 수 있는 사람을 구하기 위해 탐색을 하면,   \n",
    "  \n",
    "2번(1명) -> 4,3,1번(3명) 으로 탐색 된다.   \n",
    "   \n",
    "그래서 이긴 사람과 진 사람이 각 몇명인지 구해서 더했을때, 전체 n-1명이 나온다면, (자신을 제외하고)   \n",
    "순위를 확정 지을 수 있다.   \n",
    "그 사람이 몇명인지 확인해서 리턴한다.   \n",
    "   \n",
    ">솔직히 진짜 어려웠다.\n",
    "   \n",
    ">결과   \n",
    "정확성  테스트   \n",
    "테스트 1 〉\t통과 (0.04ms, 10.4MB)   \n",
    "테스트 2 〉\t통과 (0.03ms, 10.1MB)   \n",
    "테스트 3 〉\t통과 (0.07ms, 10.1MB)   \n",
    "테스트 4 〉\t통과 (0.05ms, 10.1MB)   \n",
    "테스트 5 〉\t통과 (0.45ms, 10.4MB)   \n",
    "테스트 6 〉\t통과 (1.06ms, 10.2MB)   \n",
    "테스트 7 〉\t통과 (2.77ms, 10.3MB)   \n",
    "테스트 8 〉\t통과 (11.44ms, 10.3MB)   \n",
    "테스트 9 〉\t통과 (8.94ms, 10.6MB)   \n",
    "테스트 10 〉\t통과 (10.45ms, 10.3MB)   \n",
    "\n",
    ">플로이드 와셜 쓰라는데 나중에 알아봄."
   ]
  },
  {
   "cell_type": "markdown",
   "metadata": {},
   "source": [
    "### 03. 배달 Lv2"
   ]
  },
  {
   "cell_type": "code",
   "execution_count": null,
   "metadata": {},
   "outputs": [],
   "source": [
    "import heapq\n",
    "\n",
    "def dijkstra(graph, distance):\n",
    "    heap = []\n",
    "    heapq.heappush(heap,[0,1])\n",
    "    \n",
    "    while heap:\n",
    "        cost, node = heapq.heappop(heap)\n",
    "        for c, n in graph[node]:\n",
    "            if cost + c < distance[n]:\n",
    "                distance[n] = cost + c\n",
    "                heapq.heappush(heap, [cost+c, n])\n",
    "                \n",
    "def solution(N, road, K):\n",
    "    answer = 0\n",
    "    distance = [float('inf')]*(N+1)\n",
    "    graph = [[] for _ in range(N+1)]\n",
    "    distance[1] = 0\n",
    "    for r in road:\n",
    "        graph[r[0]].append([r[2],r[1]])\n",
    "        graph[r[1]].append([r[2],r[0]])\n",
    "    dijkstra(graph,distance)\n",
    "    for d in distance:\n",
    "        if d <= K: answer += 1\n",
    "    return answer"
   ]
  },
  {
   "cell_type": "markdown",
   "metadata": {},
   "source": [
    "다익스트라 알고리즘 사용.(최단 경로 찾는 것: BFS/벨만-포드/다익스트라)   \n",
    "    \n",
    "[다익스트라 참고 링크](https://whwl.tistory.com/196)\n",
    "   \n",
    ">결과   \n",
    "테스트 1 〉\t통과 (7.13ms, 10.3MB)   \n",
    "테스트 2 〉\t통과 (6.81ms, 10.1MB)   \n",
    "테스트 3 〉\t통과 (5.89ms, 10.2MB)   \n",
    "테스트 4 〉\t통과 (6.19ms, 10.3MB)   \n",
    "테스트 5 〉\t통과 (7.55ms, 10.3MB)   \n",
    "테스트 6 〉\t통과 (0.04ms, 10.1MB)   \n",
    "테스트 7 〉\t통과 (0.02ms, 10.2MB)   \n",
    "테스트 8 〉\t통과 (0.52ms, 10.3MB)   \n",
    "테스트 9 〉\t통과 (0.44ms, 10.4MB)   \n",
    "테스트 10 〉\t통과 (6.33ms, 10.2MB)   \n",
    "테스트 11 〉\t통과 (9.47ms, 10.2MB)   \n",
    "테스트 12 〉\t통과 (7.05ms, 10.2MB)   \n",
    "테스트 13 〉\t통과 (10.95ms, 10.3MB)   "
   ]
  },
  {
   "cell_type": "markdown",
   "metadata": {},
   "source": [
    "### 04. 여행경로 Lv3"
   ]
  },
  {
   "cell_type": "code",
   "execution_count": 6,
   "metadata": {},
   "outputs": [],
   "source": [
    "from collections import deque\n",
    "\n",
    "def dfs(graph,v):\n",
    "    global answer\n",
    "    q = deque([v])\n",
    "    \n",
    "    while q and q[0] in graph and graph[q[0]]:\n",
    "        n = graph[q.popleft()].pop(0)\n",
    "        answer.append(n)\n",
    "        q.append(n)\n",
    "        \n",
    "\n",
    "def solution(tickets):\n",
    "    global answer\n",
    "    answer = [\"ICN\"]\n",
    "    graph = {}\n",
    "    for t in tickets:\n",
    "        graph[t[0]] = []\n",
    "    for t in tickets:\n",
    "        graph[t[0]].append(t[1])\n",
    "    for g in graph:\n",
    "        graph[g].sort()\n",
    "\n",
    "    dfs(graph,\"ICN\")\n",
    "\n",
    "    return answer"
   ]
  },
  {
   "cell_type": "markdown",
   "metadata": {},
   "source": [
    ">사용 자료구조: 스택, 해싱   \n",
    "사용 알고리즘: DFS\n",
    "\n",
    "출제자 어떤 사람인지 보고 싶음.   \n",
    "그냥 힙한척하고 싶어서 낸 문제같음.   \n",
    "문제 조건 제대로 설명 안하고 풀라고함.   \n",
    "약간 느낌이 너네 이거 생각못했지?    \n",
    "왜냐면 난 조건을 이렇게 줬으니까~ ㅋㅋㄹㅃㅃ    \n",
    "라는 느낌 받음.   \n",
    "\n",
    "DFS로 풀었음. 첫번째 실패.   \n",
    "\n",
    ">결과   \n",
    "테스트 1 〉\t실패 (0.03ms, 10.1MB)   \n",
    "테스트 2 〉\t실패 (0.01ms, 10.3MB)   \n",
    "테스트 3 〉\t통과 (0.02ms, 10.3MB)   \n",
    "테스트 4 〉\t통과 (0.01ms, 10.3MB)   "
   ]
  }
 ],
 "metadata": {
  "interpreter": {
   "hash": "299986fc2696ff7781dbcbbc98ac2471d953d8c3d7ed209ce841998e826f7bda"
  },
  "kernelspec": {
   "display_name": "Python 3.10.1 64-bit",
   "language": "python",
   "name": "python3"
  },
  "language_info": {
   "codemirror_mode": {
    "name": "ipython",
    "version": 3
   },
   "file_extension": ".py",
   "mimetype": "text/x-python",
   "name": "python",
   "nbconvert_exporter": "python",
   "pygments_lexer": "ipython3",
   "version": "3.9.10"
  },
  "orig_nbformat": 4
 },
 "nbformat": 4,
 "nbformat_minor": 2
}
