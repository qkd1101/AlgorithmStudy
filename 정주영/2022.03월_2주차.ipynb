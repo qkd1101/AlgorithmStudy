{
 "cells": [
  {
   "cell_type": "markdown",
   "metadata": {},
   "source": [
    "# 2022.02.28 ~ 2022.03.06 2월 5주차/3월 1주차"
   ]
  },
  {
   "cell_type": "markdown",
   "metadata": {},
   "source": [
    "### 01. JadenCase 문자열 만들기 Lv2"
   ]
  },
  {
   "cell_type": "code",
   "execution_count": 1,
   "metadata": {},
   "outputs": [],
   "source": [
    "def solution(s):\n",
    "    temp = ''\n",
    "    answer = ''\n",
    "    for i in s:\n",
    "        if not i.isspace():\n",
    "            temp += i\n",
    "        else :\n",
    "            if not temp:\n",
    "                answer += '~'\n",
    "                continue\n",
    "            temp = list(''.join(temp).lower())\n",
    "            temp[0] = temp[0].upper()\n",
    "            answer += ''.join(temp) + '~'\n",
    "            temp = ''\n",
    "    if temp:\n",
    "        temp = list(''.join(temp).lower())\n",
    "        temp[0] = temp[0].upper()     \n",
    "        answer += ''.join(temp)\n",
    "    return answer.replace('~',' ')"
   ]
  },
  {
   "cell_type": "markdown",
   "metadata": {},
   "source": [
    "공백이 연속해서 나옴 -> 숫자, 문자만 입력된다 했으므로, ~를 공백으로 치고, 나중에 replace를 통해 치환해줌.\n",
    "\n",
    "   \n",
    "> 결과   \n",
    "정확성  테스트   \n",
    "테스트 1 〉\t통과 (0.01ms, 10.2MB)   \n",
    "테스트 2 〉\t통과 (0.02ms, 10MB)   \n",
    "테스트 3 〉\t통과 (0.03ms, 10.2MB)   \n",
    "테스트 4 〉\t통과 (0.02ms, 10MB)   \n",
    "테스트 5 〉\t통과 (0.03ms, 9.99MB)   \n",
    "테스트 6 〉\t통과 (0.02ms, 10MB)   \n",
    "테스트 7 〉\t통과 (0.02ms, 10MB)   \n",
    "테스트 8 〉\t통과 (0.01ms, 10.1MB)   \n",
    "테스트 9 〉\t통과 (0.02ms, 10.1MB)   \n",
    "테스트 10 〉\t통과 (0.01ms, 10.3MB)   \n",
    "테스트 11 〉\t통과 (0.05ms, 10.1MB)   \n",
    "테스트 12 〉\t통과 (0.02ms, 10.1MB)   \n",
    "테스트 13 〉\t통과 (0.03ms, 10.2MB)   \n",
    "테스트 14 〉\t통과 (0.02ms, 10MB)   \n",
    "테스트 15 〉\t통과 (0.06ms, 10.1MB)   \n",
    "테스트 16 〉\t통과 (0.01ms, 10.2MB)   \n",
    "테스트 17 〉\t통과 (0.02ms, 10MB)   \n",
    "테스트 18 〉\t통과 (0.00ms, 10.1MB)   "
   ]
  },
  {
   "cell_type": "markdown",
   "metadata": {},
   "source": [
    "### 02. 짝지어 제거하기 Lv2"
   ]
  },
  {
   "cell_type": "code",
   "execution_count": null,
   "metadata": {},
   "outputs": [],
   "source": [
    "from collections import deque\n",
    "\n",
    "def solution(bridge_length, weight, truck_weights):\n",
    "    answer = 0\n",
    "    bri, s = deque(), deque()\n",
    "    sec = 0\n",
    "    \n",
    "    #초기화\n",
    "    bri.append(truck_weights.pop(0))\n",
    "    s.append(sec)\n",
    "    \n",
    "    #시작\n",
    "    sec += 1\n",
    "    while bri:\n",
    "        while True:\n",
    "            if s and sec - s[0] == bridge_length:\n",
    "                bri.popleft()\n",
    "                s.popleft()\n",
    "            else:\n",
    "                break\n",
    "        if truck_weights and (sum(bri)) + truck_weights[0] <= weight and len(bri) < bridge_length:\n",
    "            bri.append(truck_weights.pop(0))\n",
    "            s.append(sec)\n",
    "        sec += 1\n",
    "        \n",
    "    return sec"
   ]
  },
  {
   "cell_type": "markdown",
   "metadata": {},
   "source": [
    "바보같이 풀다가 시간만 잡아먹음...\n",
    "   \n",
    ">결과   \n",
    "정확성  테스트   \n",
    "테스트 1 〉\t통과 (0.00ms, 10.2MB)   \n",
    "테스트 2 〉\t통과 (8.83ms, 10.6MB)   \n",
    "테스트 3 〉\t통과 (9.14ms, 11.1MB)   \n",
    "테스트 4 〉\t통과 (10.12ms, 11.2MB)   \n",
    "테스트 5 〉\t통과 (9.15ms, 11.2MB)   \n",
    "테스트 6 〉\t통과 (8.98ms, 11.2MB)   \n",
    "테스트 7 〉\t통과 (9.17ms, 11.3MB)   \n",
    "테스트 8 〉\t통과 (9.53ms, 11.2MB)   \n",
    "테스트 9 〉\t통과 (0.00ms, 10MB)   \n",
    "테스트 10 〉\t통과 (0.01ms, 10MB)   \n",
    "테스트 11 〉\t통과 (0.00ms, 10.1MB)   \n",
    "테스트 12 〉\t통과 (0.00ms, 10MB)   \n",
    "테스트 13 〉\t통과 (0.00ms, 9.99MB)   \n",
    "효율성  테스트   \n",
    "테스트 1 〉\t통과 (100.71ms, 23.9MB)   \n",
    "테스트 2 〉\t통과 (98.87ms, 18.5MB)   \n",
    "테스트 3 〉\t통과 (94.55ms, 20MB)   \n",
    "테스트 4 〉\t통과 (93.59ms, 19.9MB)   \n",
    "테스트 5 〉\t통과 (93.71ms, 20MB)   \n",
    "테스트 6 〉\t통과 (93.21ms, 20MB)   \n",
    "테스트 7 〉\t통과 (95.24ms, 19.9MB)   \n",
    "테스트 8 〉\t통과 (96.46ms, 22.3MB)     "
   ]
  },
  {
   "cell_type": "markdown",
   "metadata": {},
   "source": [
    "### 03. 배달 Lv2"
   ]
  },
  {
   "cell_type": "code",
   "execution_count": null,
   "metadata": {},
   "outputs": [],
   "source": [
    "import heapq\n",
    "\n",
    "def dijkstra(graph, distance):\n",
    "    heap = []\n",
    "    heapq.heappush(heap,[0,1])\n",
    "    \n",
    "    while heap:\n",
    "        cost, node = heapq.heappop(heap)\n",
    "        for c, n in graph[node]:\n",
    "            if cost + c < distance[n]:\n",
    "                distance[n] = cost + c\n",
    "                heapq.heappush(heap, [cost+c, n])\n",
    "                \n",
    "def solution(N, road, K):\n",
    "    answer = 0\n",
    "    distance = [float('inf')]*(N+1)\n",
    "    graph = [[] for _ in range(N+1)]\n",
    "    distance[1] = 0\n",
    "    for r in road:\n",
    "        graph[r[0]].append([r[2],r[1]])\n",
    "        graph[r[1]].append([r[2],r[0]])\n",
    "    dijkstra(graph,distance)\n",
    "    for d in distance:\n",
    "        if d <= K: answer += 1\n",
    "    return answer"
   ]
  },
  {
   "cell_type": "markdown",
   "metadata": {},
   "source": [
    "다익스트라 알고리즘 사용.(최단 경로 찾는 것: BFS/벨만-포드/다익스트라)   \n",
    "    \n",
    "[다익스트라 참고 링크](https://whwl.tistory.com/196)\n",
    "   \n",
    ">결과   \n",
    "테스트 1 〉\t통과 (7.13ms, 10.3MB)   \n",
    "테스트 2 〉\t통과 (6.81ms, 10.1MB)   \n",
    "테스트 3 〉\t통과 (5.89ms, 10.2MB)   \n",
    "테스트 4 〉\t통과 (6.19ms, 10.3MB)   \n",
    "테스트 5 〉\t통과 (7.55ms, 10.3MB)   \n",
    "테스트 6 〉\t통과 (0.04ms, 10.1MB)   \n",
    "테스트 7 〉\t통과 (0.02ms, 10.2MB)   \n",
    "테스트 8 〉\t통과 (0.52ms, 10.3MB)   \n",
    "테스트 9 〉\t통과 (0.44ms, 10.4MB)   \n",
    "테스트 10 〉\t통과 (6.33ms, 10.2MB)   \n",
    "테스트 11 〉\t통과 (9.47ms, 10.2MB)   \n",
    "테스트 12 〉\t통과 (7.05ms, 10.2MB)   \n",
    "테스트 13 〉\t통과 (10.95ms, 10.3MB)   "
   ]
  },
  {
   "cell_type": "markdown",
   "metadata": {},
   "source": [
    "### 04. 네트워크 Lv3"
   ]
  },
  {
   "cell_type": "code",
   "execution_count": null,
   "metadata": {},
   "outputs": [],
   "source": [
    "def solution(board, skill):\n",
    "    answer = 0\n",
    "    d = {}\n",
    "    for x in range(len(board)):\n",
    "        for y in range(len(board[0])):\n",
    "            d[(x,y)] = 0\n",
    "    for b in skill:\n",
    "        if b[0] == 1:\n",
    "            index = -1*b[5]\n",
    "        else : index = b[5]\n",
    "        for i in range(b[1],b[3]+1):\n",
    "            for j in range(b[2],b[4]+1):\n",
    "                d[(i,j)] += index\n",
    "    for k,v in d.items():\n",
    "        if board[k[0]][k[1]] + v > 0:\n",
    "            answer += 1\n",
    "    return answer"
   ]
  },
  {
   "cell_type": "markdown",
   "metadata": {},
   "source": [
    "효율성 통과 실패, 알아보니 누적합을 알아야함.   \n",
    "   \n",
    "누적합 알려줄사람?   \n",
    "   \n",
    ">결과   \n",
    "정확성  테스트   \n",
    "테스트 1 〉\t통과 (0.01ms, 10.2MB)   \n",
    "테스트 2 〉\t통과 (0.07ms, 10.1MB)   \n",
    "테스트 3 〉\t통과 (0.29ms, 10.1MB)   \n",
    "테스트 4 〉\t통과 (1.05ms, 10.4MB)   \n",
    "테스트 5 〉\t통과 (1.69ms, 10.4MB)   \n",
    "테스트 6 〉\t통과 (3.56ms, 10.6MB)   \n",
    "테스트 7 〉\t통과 (5.16ms, 10.6MB)   \n",
    "테스트 8 〉\t통과 (7.98ms, 10.7MB)   \n",
    "테스트 9 〉\t통과 (10.44ms, 10.8MB)   \n",
    "테스트 10 〉\t통과 (20.57ms, 11.1MB)   \n",
    "효율성  테스트   \n",
    "테스트 1 〉\t실패 (시간 초과)   \n",
    "테스트 2 〉\t실패 (시간 초과)   \n",
    "테스트 3 〉\t실패 (시간 초과)   \n",
    "테스트 4 〉\t실패 (시간 초과)   \n",
    "테스트 5 〉\t실패 (시간 초과)   \n",
    "테스트 6 〉\t실패 (시간 초과)   \n",
    "테스트 7 〉\t실패 (시간 초과)   "
   ]
  }
 ],
 "metadata": {
  "interpreter": {
   "hash": "299986fc2696ff7781dbcbbc98ac2471d953d8c3d7ed209ce841998e826f7bda"
  },
  "kernelspec": {
   "display_name": "Python 3.10.1 64-bit",
   "language": "python",
   "name": "python3"
  },
  "language_info": {
   "codemirror_mode": {
    "name": "ipython",
    "version": 3
   },
   "file_extension": ".py",
   "mimetype": "text/x-python",
   "name": "python",
   "nbconvert_exporter": "python",
   "pygments_lexer": "ipython3",
   "version": "3.10.1"
  },
  "orig_nbformat": 4
 },
 "nbformat": 4,
 "nbformat_minor": 2
}
