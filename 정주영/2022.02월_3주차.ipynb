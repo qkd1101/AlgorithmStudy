{
 "cells": [
  {
   "cell_type": "markdown",
   "metadata": {},
   "source": [
    "# 2022.02.13 ~ 2022.02.19 2월 3주차"
   ]
  },
  {
   "cell_type": "markdown",
   "metadata": {},
   "source": [
    "### 01. 가장 큰수"
   ]
  },
  {
   "cell_type": "code",
   "execution_count": null,
   "metadata": {},
   "outputs": [],
   "source": [
    "def solution(numbers):\n",
    "    numbers = list(map(str,numbers))\n",
    "    numbers.sort(key=lambda x: x*3,reverse=True)\n",
    "    \n",
    "    return str(int(\"\".join(numbers)))"
   ]
  },
  {
   "cell_type": "markdown",
   "metadata": {},
   "source": [
    "이거 개 어려움. 전에 풀어봤는데 좀 어려웠음."
   ]
  },
  {
   "cell_type": "markdown",
   "metadata": {},
   "source": [
    "### 02.빛의 경로 사이클"
   ]
  },
  {
   "cell_type": "code",
   "execution_count": null,
   "metadata": {},
   "outputs": [],
   "source": [
    "def solution(grid):\n",
    "    answer = []\n",
    "    global n,m,visited\n",
    "    n = len(grid)\n",
    "    m = len(grid[0])\n",
    "    visited = [[ [0]*4 for _ in range(m)] for _ in range(n)]\n",
    "    \n",
    "    for x in range(n):\n",
    "        for y in range(m):\n",
    "            for k in range(4):\n",
    "                if visited[x][y][k] == 0:\n",
    "                    d = dfs(x,y,k,grid)\n",
    "                    if d != 0 : answer.append(d)\n",
    "    answer.sort()\n",
    "    return answer\n",
    "\n",
    "def dfs(x,y,k,grid):\n",
    "    global visited\n",
    "    dx = [1,0,-1,0]\n",
    "    dy = [0,-1,0,1]\n",
    "    tempx,tempy,tempk = x,y,k\n",
    "    visited[x][y][k] = 1\n",
    "    \n",
    "    cnt = 0\n",
    "    while True:\n",
    "        tempx = (tempx + dx[tempk])%n\n",
    "        tempy = (tempy + dy[tempk])%m\n",
    "        cnt += 1\n",
    "        if grid[tempx][tempy] == 'R': tempk = (tempk+1)%4\n",
    "        elif grid[tempx][tempy] == 'L': tempk = (tempk-1)%4\n",
    "        if visited[tempx][tempy][tempk] == 1:\n",
    "            if(x,y,k)==(tempx,tempy,tempk):\n",
    "                return cnt\n",
    "            else :\n",
    "                return 0\n",
    "        visited[tempx][tempy][tempk] = 1"
   ]
  },
  {
   "cell_type": "markdown",
   "metadata": {},
   "source": [
    "DFS 사용.   \n",
    "3차원 배열 사용 -> 현재 위치에서 동,서,남,북 4방향 다 쏴봐야 하기 때문.   \n",
    "같은 칸으로 다시 돌아온다면, 사이클이 형성 된 것.   \n",
    "정렬해야함."
   ]
  },
  {
   "cell_type": "markdown",
   "metadata": {},
   "source": [
    "### 03. 카펫"
   ]
  },
  {
   "cell_type": "code",
   "execution_count": null,
   "metadata": {},
   "outputs": [],
   "source": [
    "def solution(brown, yellow):\n",
    "    index = brown + yellow\n",
    "    for k in range(1,yellow+1) :\n",
    "        if brown == 2*(2+yellow/k)+2*k:\n",
    "            return [index/(k+2),k+2]"
   ]
  },
  {
   "cell_type": "markdown",
   "metadata": {},
   "source": [
    "노란색 카펫이 n줄일때, 갈색 카펫이 몇 개인지 세어서 맞으면 리턴하는 방식을 사용."
   ]
  }
 ],
 "metadata": {
  "interpreter": {
   "hash": "299986fc2696ff7781dbcbbc98ac2471d953d8c3d7ed209ce841998e826f7bda"
  },
  "kernelspec": {
   "display_name": "Python 3.10.1 64-bit",
   "language": "python",
   "name": "python3"
  },
  "language_info": {
   "codemirror_mode": {
    "name": "ipython",
    "version": 3
   },
   "file_extension": ".py",
   "mimetype": "text/x-python",
   "name": "python",
   "nbconvert_exporter": "python",
   "pygments_lexer": "ipython3",
   "version": "3.10.1"
  },
  "orig_nbformat": 4
 },
 "nbformat": 4,
 "nbformat_minor": 2
}
