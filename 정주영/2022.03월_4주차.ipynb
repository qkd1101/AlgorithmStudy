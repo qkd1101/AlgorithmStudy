{
 "cells": [
  {
   "cell_type": "markdown",
   "metadata": {},
   "source": [
    "# 2022.03.20 ~ 2022.03.26 3월 4주차"
   ]
  },
  {
   "cell_type": "markdown",
   "metadata": {},
   "source": [
    "### 01. 올바른 괄호 Lv2"
   ]
  },
  {
   "cell_type": "code",
   "execution_count": null,
   "metadata": {},
   "outputs": [],
   "source": [
    "from collections import deque\n",
    "\n",
    "def solution(s):\n",
    "    stack = deque()\n",
    "    for s in s:\n",
    "        if not stack:\n",
    "            stack.append(s)\n",
    "        elif s  == ')' and stack[-1] == '(':\n",
    "            stack.pop()\n",
    "        else:\n",
    "            stack.append(s)\n",
    "    if stack: return False\n",
    "    else : return True"
   ]
  },
  {
   "cell_type": "markdown",
   "metadata": {},
   "source": [
    ">사용 자료구조: 스택   \n",
    "사용 알고리즘: \n",
    "\n",
    "스택에 (는 쌓고, )가 들어오면 삭제함.   \n",
    "스택이 비어있으면 true, 있으면 False.   \n",
    "   \n",
    ">결과   \n",
    "정확성  테스트   \n",
    "테스트 1 〉\t통과 (0.00ms, 10.1MB)   \n",
    "테스트 2 〉\t통과 (0.00ms, 10MB)   \n",
    "테스트 3 〉\t통과 (0.00ms, 10.2MB)   \n",
    "테스트 4 〉\t통과 (0.00ms, 10.1MB)   \n",
    "테스트 5 〉\t통과 (0.00ms, 10MB)   \n",
    "테스트 6 〉\t통과 (0.00ms, 10.1MB)   \n",
    "테스트 7 〉\t통과 (0.00ms, 10.2MB)   \n",
    "테스트 8 〉\t통과 (0.00ms, 10MB)   \n",
    "테스트 9 〉\t통과 (0.01ms, 10.1MB)   \n",
    "테스트 10 〉\t통과 (0.01ms, 10.1MB)   \n",
    "테스트 11 〉\t통과 (0.00ms, 10MB)   \n",
    "테스트 12 〉\t통과 (0.01ms, 10.1MB)   \n",
    "테스트 13 〉\t통과 (0.01ms, 10MB)   \n",
    "테스트 14 〉\t통과 (0.02ms, 10.1MB)   \n",
    "테스트 15 〉\t통과 (0.01ms, 10.1MB)   \n",
    "테스트 16 〉\t통과 (0.01ms, 10MB)   \n",
    "테스트 17 〉\t통과 (0.02ms, 9.96MB)   \n",
    "테스트 18 〉\t통과 (0.01ms, 10MB)   \n",
    "효율성  테스트   \n",
    "테스트 1 〉\t통과 (8.94ms, 10.4MB)   \n",
    "테스트 2 〉\t통과 (8.93ms, 10.3MB)   "
   ]
  },
  {
   "cell_type": "markdown",
   "metadata": {},
   "source": [
    "### 02. 여행경로 Lv2"
   ]
  },
  {
   "cell_type": "code",
   "execution_count": 6,
   "metadata": {},
   "outputs": [],
   "source": [
    "from collections import deque\n",
    "\n",
    "def bfs(x,y,maps):\n",
    "    queue = deque()\n",
    "    queue.append((x,y))\n",
    "    cnt = 0\n",
    "    dx = [-1,1,0,0]\n",
    "    dy = [0,0,-1,1]\n",
    "    n = len(maps)\n",
    "    m = len(maps[0])\n",
    "    \n",
    "    while queue:\n",
    "        x,y = queue.popleft()\n",
    "        for i in range(4):\n",
    "            nx = x + dx[i]\n",
    "            ny = y + dy[i]\n",
    "            \n",
    "            if nx < 0 or nx >= n or ny < 0 or ny >= m:\n",
    "                continue\n",
    "            elif maps[nx][ny] == 0:\n",
    "                continue\n",
    "            elif maps[nx][ny] == 1:\n",
    "                maps[nx][ny] = maps[x][y] + 1\n",
    "                queue.append((nx,ny))\n",
    "    if maps[n-1][m-1] == 1 :\n",
    "        return -1\n",
    "    return maps[n-1][m-1]\n",
    "    \n",
    "def solution(maps):\n",
    "    return bfs(0,0,maps)"
   ]
  },
  {
   "cell_type": "markdown",
   "metadata": {},
   "source": [
    ">사용 자료구조: 큐   \n",
    "사용 알고리즘: BFS\n",
    "   \n",
    "전형적인 최단 경로 문제.   \n",
    "maps에 0,0 으로부터 몇 단계를 걸쳐야 도달하는 지를 저장.   \n",
    "마지막에 maps[x-1][y-1]을 리턴하면 끝.   \n",
    "   \n",
    "\n",
    ">결과   \n",
    "정확성  테스트   \n",
    "테스트 1 〉\t통과 (0.03ms, 10.2MB)   \n",
    "테스트 2 〉\t통과 (0.03ms, 10.2MB)   \n",
    "테스트 3 〉\t통과 (0.07ms, 10.2MB)   \n",
    "테스트 4 〉\t통과 (0.04ms, 10.2MB)   \n",
    "테스트 5 〉\t통과 (0.03ms, 10MB)   \n",
    "테스트 6 〉\t통과 (0.04ms, 10.1MB)   \n",
    "테스트 7 〉\t통과 (0.06ms, 10.2MB)   \n",
    "테스트 8 〉\t통과 (0.07ms, 10.1MB)   \n",
    "테스트 9 〉\t통과 (0.05ms, 10.1MB)   \n",
    "테스트 10 〉\t통과 (0.09ms, 10.2MB)   \n",
    "테스트 11 〉\t통과 (0.03ms, 10MB)   \n",
    "테스트 12 〉\t통과 (0.02ms, 10.1MB)   \n",
    "테스트 13 〉\t통과 (0.06ms, 10.1MB)   \n",
    "테스트 14 〉\t통과 (0.04ms, 10.1MB)   \n",
    "테스트 15 〉\t통과 (0.03ms, 10.1MB)   \n",
    "테스트 16 〉\t통과 (0.02ms, 10.1MB)   \n",
    "테스트 17 〉\t통과 (0.05ms, 10MB)   \n",
    "테스트 18 〉\t통과 (0.01ms, 10.1MB)   \n",
    "테스트 19 〉\t통과 (0.01ms, 10.2MB)   \n",
    "테스트 20 〉\t통과 (0.01ms, 10.2MB)   \n",
    "테스트 21 〉\t통과 (0.01ms, 10.2MB)   \n",
    "효율성  테스트   \n",
    "테스트 1 〉\t통과 (12.97ms, 10.2MB)   \n",
    "테스트 2 〉\t통과 (3.38ms, 10.2MB)   \n",
    "테스트 3 〉\t통과 (8.23ms, 10.2MB)   \n",
    "테스트 4 〉\t통과 (5.51ms, 10.2MB)   "
   ]
  },
  {
   "cell_type": "markdown",
   "metadata": {},
   "source": [
    "### 03. 피보나치수 Lv2"
   ]
  },
  {
   "cell_type": "code",
   "execution_count": null,
   "metadata": {},
   "outputs": [],
   "source": [
    "def fibo(index, n):\n",
    "    if index == n:\n",
    "        return n\n",
    "    else:\n",
    "        return n+fibo(index,n+1)\n",
    "\n",
    "def solution(n):\n",
    "    global cnt\n",
    "    print(fibo(n,0))\n",
    "    return 1"
   ]
  }
 ],
 "metadata": {
  "interpreter": {
   "hash": "299986fc2696ff7781dbcbbc98ac2471d953d8c3d7ed209ce841998e826f7bda"
  },
  "kernelspec": {
   "display_name": "Python 3.10.1 64-bit",
   "language": "python",
   "name": "python3"
  },
  "language_info": {
   "codemirror_mode": {
    "name": "ipython",
    "version": 3
   },
   "file_extension": ".py",
   "mimetype": "text/x-python",
   "name": "python",
   "nbconvert_exporter": "python",
   "pygments_lexer": "ipython3",
   "version": "3.10.1"
  },
  "orig_nbformat": 4
 },
 "nbformat": 4,
 "nbformat_minor": 2
}
