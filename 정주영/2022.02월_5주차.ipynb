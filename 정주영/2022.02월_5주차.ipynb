{
 "cells": [
  {
   "cell_type": "markdown",
   "metadata": {},
   "source": [
    "# 2022.02.10 ~ 2022.02.26 2월 4주차"
   ]
  },
  {
   "cell_type": "markdown",
   "metadata": {},
   "source": [
    "### 01. 타겟 넘버 Lv2"
   ]
  },
  {
   "cell_type": "code",
   "execution_count": null,
   "metadata": {},
   "outputs": [],
   "source": [
    "def solution(numbers, target):\n",
    "    answer = 0\n",
    "    #처음 인덱스 무시, 1번 인덱스 부터 시작\n",
    "    stack = [0,0]\n",
    "    index = 1\n",
    "    while numbers:\n",
    "        n = numbers.pop(0)\n",
    "        for i in range(index,index*2):\n",
    "            stack.append(stack[i]+n)\n",
    "            stack.append(stack[i]-n)\n",
    "        index *= 2\n",
    "    for s in range(index, index*2):\n",
    "        if stack[s] == target: answer += 1\n",
    "    return answer\n"
   ]
  },
  {
   "cell_type": "markdown",
   "metadata": {},
   "source": [
    "그래프 사용.   \n",
    "+,- 만 있어서 이진트리구조 사용 가능.\n",
    "\n",
    ">순서도 \n",
    ">1) parent 노드에 다음 숫자의 +,- 값을 child로 넣음.   \n",
    ">2) 다음 인덱스로 넘어가서 다시 노드들에 +,- 값을 child로 넣음.   \n",
    ">3) 반복, 결국 마지막 리프 노드들은 모든 경우의 값을 포함하고 있음.   \n",
    ">4) 마지막 리프 노드들에서 맞는 것을 골라서 카운트 해주면 됨.\n",
    "\n",
    "BFS 사용하여 풀었음."
   ]
  },
  {
   "cell_type": "markdown",
   "metadata": {},
   "source": [
    "### 02. 소수찾기"
   ]
  },
  {
   "cell_type": "code",
   "execution_count": null,
   "metadata": {},
   "outputs": [],
   "source": [
    "from itertools import permutations\n",
    "\n",
    "def isitPrime(k):\n",
    "    if k==2 or k==3: return True\n",
    "    if k%2==0 or k<2: return False\n",
    "    for i in range(3, int(k**0.5)+1, 2):\n",
    "        if k%i==0:\n",
    "            return False\n",
    "\n",
    "    return True\n",
    "\n",
    "def solution(numbers):\n",
    "    answer = []\n",
    "    ran = len(numbers)\n",
    "    for k in range(1,ran+1):\n",
    "        numbers2 = list(permutations(list(numbers),k))\n",
    "        for n in numbers2:\n",
    "            if isitPrime(int(''.join(n))):\n",
    "                answer.append(int(''.join(n)))\n",
    "    return len(set(answer))"
   ]
  },
  {
   "cell_type": "markdown",
   "metadata": {},
   "source": [
    "조합으로 풀었음."
   ]
  },
  {
   "cell_type": "markdown",
   "metadata": {},
   "source": [
    "### 03. 위장"
   ]
  },
  {
   "cell_type": "code",
   "execution_count": null,
   "metadata": {},
   "outputs": [],
   "source": [
    "def solution(clothes):\n",
    "    dic = {}\n",
    "    answer = 1\n",
    "    for x in clothes:\n",
    "        dic[x[1]] = 0\n",
    "    for x in clothes:\n",
    "        dic[x[1]] += 1\n",
    "    for k,v in dic.items():\n",
    "        v += 1\n",
    "        answer *= v\n",
    "    return answer - 1"
   ]
  },
  {
   "cell_type": "markdown",
   "metadata": {},
   "source": [
    "예를 들어 설명하는 것이 제일 편함.   \n",
    "모자 : (a,b) 2개   \n",
    "바지 : (c) 1개   \n",
    "신발 : (d) 1개   \n",
    "일 경우에는 조합의 경우가   \n",
    "3 * 2 * 2 가 나옴.   \n",
    "   \n",
    "안 입거나 (1가지) + 입거나 (개수) * 입거나 (1가지) + 입거나 (개수) * ... 이런 식으로   \n",
    "하지만, 아무것도 입지 않은 경우가 있으므로 1개를 빼면 됨."
   ]
  },
  {
   "cell_type": "markdown",
   "metadata": {},
   "source": [
    "### 04. 가장 먼 노드 Lv3"
   ]
  },
  {
   "cell_type": "code",
   "execution_count": null,
   "metadata": {},
   "outputs": [],
   "source": [
    "from collections import deque\n",
    "\n",
    "def bfs(graph, start, visited):\n",
    "    queue = deque([start])\n",
    "    visited[start] = True\n",
    "    global cnt\n",
    "    while queue:\n",
    "        v = queue.popleft()\n",
    "        for i in graph[v]:\n",
    "            if not visited[i]:\n",
    "                queue.append(i)\n",
    "                visited[i] = True\n",
    "                cnt[i] = cnt[v] + 1\n",
    "    \n",
    "def solution(n, edge): \n",
    "    answer = 0\n",
    "    node = []\n",
    "    visited = [False]*(n+1)\n",
    "    global cnt\n",
    "    cnt = [0 for _ in range(n+1)]\n",
    "    \n",
    "    for i in range(n+1):\n",
    "        node.append([])\n",
    "    for e in edge:\n",
    "        node[e[0]].append(e[1])\n",
    "        node[e[1]].append(e[0])\n",
    "    for k in node:\n",
    "        k = list(set(k))\n",
    "    \n",
    "    bfs(node, 1, visited)\n",
    "    \n",
    "    m = max(cnt)\n",
    "    for c in cnt:\n",
    "        if m == c: answer += 1\n",
    "    return answer\n"
   ]
  },
  {
   "cell_type": "markdown",
   "metadata": {},
   "source": [
    "BFS를 통하여, 부모 노드로 부터 몇 만큼 덜어져 있는지 cnt라는 배열에 넣음.   \n",
    "최댓값이 몇 개 있는지 리턴하면 끝."
   ]
  }
 ],
 "metadata": {
  "interpreter": {
   "hash": "299986fc2696ff7781dbcbbc98ac2471d953d8c3d7ed209ce841998e826f7bda"
  },
  "kernelspec": {
   "display_name": "Python 3.10.1 64-bit",
   "language": "python",
   "name": "python3"
  },
  "language_info": {
   "codemirror_mode": {
    "name": "ipython",
    "version": 3
   },
   "file_extension": ".py",
   "mimetype": "text/x-python",
   "name": "python",
   "nbconvert_exporter": "python",
   "pygments_lexer": "ipython3",
   "version": "3.10.1"
  },
  "orig_nbformat": 4
 },
 "nbformat": 4,
 "nbformat_minor": 2
}
