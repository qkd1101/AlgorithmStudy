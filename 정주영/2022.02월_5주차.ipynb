{
 "cells": [
  {
   "cell_type": "markdown",
   "metadata": {},
   "source": [
    "# 2022.02.28 ~ 2022.03.06 2월 5주차/3월 1주차"
   ]
  },
  {
   "cell_type": "markdown",
   "metadata": {},
   "source": [
    "### 01. 주식 가격 Lv2"
   ]
  },
  {
   "cell_type": "markdown",
   "metadata": {},
   "source": [
    "> 1.Brute Force"
   ]
  },
  {
   "cell_type": "code",
   "execution_count": 1,
   "metadata": {},
   "outputs": [],
   "source": [
    "def solution(prices):\n",
    "    answer = [0]*len(prices)\n",
    "    for i in range(len(prices)-1,-1,-1):\n",
    "        cnt = 0\n",
    "        for j in range(i,len(prices)):\n",
    "            if prices[i] > prices[j] or j == len(prices)-1:\n",
    "                answer[i] = cnt\n",
    "                break\n",
    "            cnt += 1\n",
    "    return answer"
   ]
  },
  {
   "cell_type": "markdown",
   "metadata": {},
   "source": [
    "> 결과   \n",
    "   \n",
    "정확성  테스트   \n",
    "테스트 1 〉\t통과 (0.01ms, 10.2MB)   \n",
    "테스트 2 〉\t통과 (0.13ms, 10.2MB)   \n",
    "테스트 3 〉\t통과 (1.76ms, 10.2MB)   \n",
    "테스트 4 〉\t통과 (1.88ms, 10.1MB)   \n",
    "테스트 5 〉\t통과 (2.24ms, 10.2MB)   \n",
    "테스트 6 〉\t통과 (0.07ms, 10.1MB)   \n",
    "테스트 7 〉\t통과 (1.15ms, 10.2MB)   \n",
    "테스트 8 〉\t통과 (1.14ms, 10.4MB)   \n",
    "테스트 9 〉\t통과 (0.08ms, 10.3MB)   \n",
    "테스트 10 〉\t통과 (1.45ms, 10.3MB)    \n",
    "효율성  테스트   \n",
    "테스트 1 〉\t통과 (211.70ms, 18.8MB)   \n",
    "테스트 2 〉\t통과 (151.16ms, 17.5MB)   \n",
    "테스트 3 〉\t통과 (263.93ms, 19.5MB)   \n",
    "테스트 4 〉\t통과 (194.88ms, 18.2MB)   \n",
    "테스트 5 〉\t통과 (126.70ms, 16.8MB)   "
   ]
  },
  {
   "cell_type": "markdown",
   "metadata": {},
   "source": [
    "> 2. Stack"
   ]
  },
  {
   "cell_type": "code",
   "execution_count": null,
   "metadata": {},
   "outputs": [],
   "source": [
    "def solution(prices):\n",
    "    answer = [0]*len(prices)\n",
    "    s = []\n",
    "    for i,p in enumerate(prices):\n",
    "        while s and s[-1][1] > p:\n",
    "            k,v = s.pop()\n",
    "            answer[k] = i - k\n",
    "        s.append((i,p))\n",
    "    while s:\n",
    "        k,v = s.pop()\n",
    "        answer[k] = i - k\n",
    "    return answer"
   ]
  },
  {
   "cell_type": "markdown",
   "metadata": {},
   "source": [
    "> 결과   \n",
    "   \n",
    "정확성  테스트   \n",
    "테스트 1 〉\t통과 (0.01ms, 10.1MB)   \n",
    "테스트 2 〉\t통과 (0.03ms, 10.3MB)   \n",
    "테스트 3 〉\t통과 (0.21ms, 10.4MB)   \n",
    "테스트 4 〉\t통과 (0.24ms, 10.4MB)   \n",
    "테스트 5 〉\t통과 (0.27ms, 10.2MB)   \n",
    "테스트 6 〉\t통과 (0.02ms, 10.3MB)   \n",
    "테스트 7 〉\t통과 (0.15ms, 10.2MB)   \n",
    "테스트 8 〉\t통과 (0.17ms, 10.2MB)   \n",
    "테스트 9 〉\t통과 (0.02ms, 9.99MB)   \n",
    "테스트 10 〉\t통과 (0.28ms, 10.3MB)   \n",
    "효율성  테스트   \n",
    "테스트 1 〉\t통과 (25.21ms, 18.9MB)   \n",
    "테스트 2 〉\t통과 (16.87ms, 17.5MB)   \n",
    "테스트 3 〉\t통과 (28.19ms, 19.4MB)   \n",
    "테스트 4 〉\t통과 (22.58ms, 18.2MB)   \n",
    "테스트 5 〉\t통과 (15.64ms, 16.8MB)   "
   ]
  },
  {
   "cell_type": "markdown",
   "metadata": {},
   "source": [
    "### 02. 다리를 지나는 트럭 Lv2"
   ]
  },
  {
   "cell_type": "code",
   "execution_count": null,
   "metadata": {},
   "outputs": [],
   "source": [
    "from collections import deque\n",
    "\n",
    "def solution(bridge_length, weight, truck_weights):\n",
    "    answer = 0\n",
    "    bri, s = deque(), deque()\n",
    "    sec = 0\n",
    "    \n",
    "    #초기화\n",
    "    bri.append(truck_weights.pop(0))\n",
    "    s.append(sec)\n",
    "    \n",
    "    #시작\n",
    "    sec += 1\n",
    "    while bri:\n",
    "        while True:\n",
    "            if s and sec - s[0] == bridge_length:\n",
    "                bri.popleft()\n",
    "                s.popleft()\n",
    "            else:\n",
    "                break\n",
    "        if truck_weights and (sum(bri)) + truck_weights[0] <= weight and len(bri) < bridge_length:\n",
    "            bri.append(truck_weights.pop(0))\n",
    "            s.append(sec)\n",
    "        sec += 1\n",
    "        \n",
    "    return sec"
   ]
  },
  {
   "cell_type": "markdown",
   "metadata": {},
   "source": [
    "다리에 채류하는 n초 = 다리를 n칸 건넜다.   \n",
    "\n",
    "다리에 있는 트럭들이 사라지면 반복문 종료.   \n",
    "   \n",
    ">결과   \n",
    "테스트 1 〉\t통과 (0.96ms, 10.2MB)   \n",
    "테스트 2 〉\t통과 (15.33ms, 10.4MB)   \n",
    "테스트 3 〉\t통과 (0.02ms, 10.4MB)   \n",
    "테스트 4 〉\t통과 (18.77ms, 10.1MB)   \n",
    "테스트 5 〉\t통과 (100.83ms, 10.3MB)   \n",
    "테스트 6 〉\t통과 (30.47ms, 10.2MB)   \n",
    "테스트 7 〉\t통과 (0.40ms, 10.4MB)   \n",
    "테스트 8 〉\t통과 (0.15ms, 10.3MB)   \n",
    "테스트 9 〉\t통과 (4.60ms, 10.1MB)   \n",
    "테스트 10 〉\t통과 (0.10ms, 10.2MB)   \n",
    "테스트 11 〉\t통과 (0.01ms, 10.3MB)   \n",
    "테스트 12 〉\t통과 (0.18ms, 10.2MB)   \n",
    "테스트 13 〉\t통과 (1.14ms, 10.3MB)   \n",
    "테스트 14 〉\t통과 (0.01ms, 10.2MB)   "
   ]
  },
  {
   "cell_type": "markdown",
   "metadata": {},
   "source": [
    "### 03. 위장"
   ]
  },
  {
   "cell_type": "code",
   "execution_count": null,
   "metadata": {},
   "outputs": [],
   "source": [
    "from collections import deque\n",
    " \n",
    "def bfs(graph,start,visited):\n",
    "    queue = deque([start])\n",
    "    visited[start] = True\n",
    "    while queue:\n",
    "        v = queue.popleft()\n",
    "        for i in graph[v]:\n",
    "            if not visited[i]:\n",
    "                queue.append(i)\n",
    "                visited[i]=True\n",
    "\n",
    "def solution(n, wires):\n",
    "    answer = 999\n",
    "    index = 0\n",
    "    while index < len(wires):\n",
    "        wires2 = wires[:]\n",
    "        wires2.pop(index)\n",
    "        graph = [[] for _ in range(n)]\n",
    "        for e in wires2:\n",
    "            graph[e[0]-1].append(e[1]-1)\n",
    "            graph[e[1]-1].append(e[0]-1)\n",
    "        for k in graph:\n",
    "            k = list(set(k))\n",
    "        index += 1\n",
    "        visited = [False]*n\n",
    "        bfs(graph,0,visited)\n",
    "        if answer > abs((n - visited.count(False)) - visited.count(False)):\n",
    "            answer = abs((n - visited.count(False)) - visited.count(False))\n",
    "\n",
    "    return answer"
   ]
  },
  {
   "cell_type": "markdown",
   "metadata": {},
   "source": [
    "wires 배열 1칸 당 정보 = 그래프 연결 정보   \n",
    "즉, wires 배열에 하나씩 없에면 그래프 연결 정보가 하나씩 사라짐.   \n",
    "그래서 순서대로 하나씩 안받으면서 ( = 연결을 끊어가면서  )   \n",
    "그래프간 탐색을 했을때, 방문 안한 부분은, 다른 네트워크가 형성된 부분.   \n",
    "(문제 조건에서 하나의 네트워크를 이룬다고 했으므로.)   \n",
    "그 중 격차가 가장 작은 값을 리턴.   \n",
    "   \n",
    ">결과   \n",
    "테스트 1 〉\t통과 (7.13ms, 10.3MB)   \n",
    "테스트 2 〉\t통과 (6.81ms, 10.1MB)   \n",
    "테스트 3 〉\t통과 (5.89ms, 10.2MB)   \n",
    "테스트 4 〉\t통과 (6.19ms, 10.3MB)   \n",
    "테스트 5 〉\t통과 (7.55ms, 10.3MB)   \n",
    "테스트 6 〉\t통과 (0.04ms, 10.1MB)   \n",
    "테스트 7 〉\t통과 (0.02ms, 10.2MB)   \n",
    "테스트 8 〉\t통과 (0.52ms, 10.3MB)   \n",
    "테스트 9 〉\t통과 (0.44ms, 10.4MB)   \n",
    "테스트 10 〉\t통과 (6.33ms, 10.2MB)   \n",
    "테스트 11 〉\t통과 (9.47ms, 10.2MB)   \n",
    "테스트 12 〉\t통과 (7.05ms, 10.2MB)   \n",
    "테스트 13 〉\t통과 (10.95ms, 10.3MB)   "
   ]
  },
  {
   "cell_type": "markdown",
   "metadata": {},
   "source": [
    "### 04. 네트워크 Lv3"
   ]
  },
  {
   "cell_type": "markdown",
   "metadata": {},
   "source": [
    "> BFS"
   ]
  },
  {
   "cell_type": "code",
   "execution_count": null,
   "metadata": {},
   "outputs": [],
   "source": [
    "from collections import deque\n",
    "\n",
    "def bfs(graph,start,visited):\n",
    "    queue = deque([start])\n",
    "    visited[start] = True\n",
    "    while queue:\n",
    "        v = queue.popleft()\n",
    "        for i in graph[v]:\n",
    "            if not visited[i]:\n",
    "                queue.append(i)\n",
    "                visited[i]=True\n",
    "                \n",
    "def solution(n, computers):\n",
    "    answer = 0\n",
    "    graph = []\n",
    "    visited = [False]*n\n",
    "    for x in range(n):\n",
    "        templ = []\n",
    "        for y in range(n):\n",
    "            if computers[x][y] == 1 and x != y:\n",
    "                templ.append(y)\n",
    "        graph.append(templ)\n",
    "    while visited.count(False) != 0:\n",
    "        for i,v in enumerate(visited):\n",
    "            if v == False:\n",
    "                bfs(graph,i,visited)\n",
    "                answer += 1\n",
    "    return answer"
   ]
  },
  {
   "cell_type": "markdown",
   "metadata": {},
   "source": [
    "BFS를 통하여, 그냥 네트워크가 몇 개 있는지 \n",
    "\n",
    ">결과   \n",
    "   \n",
    "테스트 1 〉\t통과 (0.01ms, 10.3MB)   \n",
    "테스트 2 〉\t통과 (0.02ms, 10.4MB)   \n",
    "테스트 3 〉\t통과 (0.05ms, 10.2MB)   \n",
    "테스트 4 〉\t통과 (0.04ms, 10.2MB)   \n",
    "테스트 5 〉\t통과 (0.01ms, 10.4MB)   \n",
    "테스트 6 〉\t통과 (0.16ms, 10.2MB)   \n",
    "테스트 7 〉\t통과 (0.03ms, 10.2MB)   \n",
    "테스트 8 〉\t통과 (0.23ms, 10.3MB)   \n",
    "테스트 9 〉\t통과 (0.08ms, 10.2MB)   \n",
    "테스트 10 〉\t통과 (0.08ms, 10.2MB)   \n",
    "테스트 11 〉\t통과 (0.53ms, 10.5MB)   \n",
    "테스트 12 〉\t통과 (0.42ms, 10.4MB)   \n",
    "테스트 13 〉\t통과 (0.21ms, 10.2MB)   "
   ]
  },
  {
   "cell_type": "markdown",
   "metadata": {},
   "source": [
    ">DFS"
   ]
  },
  {
   "cell_type": "code",
   "execution_count": 38,
   "metadata": {},
   "outputs": [],
   "source": [
    "from collections import deque\n",
    "\n",
    "def dfs(graph,v,visited):\n",
    "    visited[v] = True\n",
    "    for i in graph[v]:\n",
    "        if not visited[i]:\n",
    "            dfs(graph,i,visited)\n",
    "\n",
    "def solution(n, computers):\n",
    "    answer = 0\n",
    "    graph = []\n",
    "    visited = [False]*n\n",
    "    for x in range(n):\n",
    "        templ = []\n",
    "        for y in range(n):\n",
    "            if computers[x][y] == 1 and x != y:\n",
    "                templ.append(y)\n",
    "        graph.append(templ)\n",
    "    print(graph)\n",
    "    while visited.count(False) != 0:\n",
    "        for i,v in enumerate(visited):\n",
    "            if v == False:\n",
    "                dfs(graph,i,visited)\n",
    "                answer += 1\n",
    "    return answer"
   ]
  },
  {
   "cell_type": "markdown",
   "metadata": {},
   "source": [
    "> 결과   \n",
    "\n",
    "테스트 1 〉\t통과 (0.02ms, 10.2MB)   \n",
    "테스트 2 〉\t통과 (0.02ms, 10.2MB)   \n",
    "테스트 3 〉\t통과 (0.08ms, 10MB)   \n",
    "테스트 4 〉\t통과 (0.09ms, 10.1MB)   \n",
    "테스트 5 〉\t통과 (0.01ms, 10.4MB)   \n",
    "테스트 6 〉\t통과 (0.36ms, 10.2MB)   \n",
    "테스트 7 〉\t통과 (0.03ms, 10.3MB)   \n",
    "테스트 8 〉\t통과 (0.25ms, 10.1MB)   \n",
    "테스트 9 〉\t통과 (0.10ms, 10.1MB)   \n",
    "테스트 10 〉\t통과 (0.17ms, 10.1MB)   \n",
    "테스트 11 〉\t통과 (1.09ms, 10.3MB)   \n",
    "테스트 12 〉\t통과 (0.49ms, 10.1MB)   \n",
    "테스트 13 〉\t통과 (0.26ms, 10.1MB)   "
   ]
  },
  {
   "cell_type": "markdown",
   "metadata": {},
   "source": [
    "> BFS가 더 유리함. 아무래도, DFS를 재귀 함수로 작성하여 함수 스택 호출 시간에 따른 결과로 예상됨."
   ]
  }
 ],
 "metadata": {
  "interpreter": {
   "hash": "299986fc2696ff7781dbcbbc98ac2471d953d8c3d7ed209ce841998e826f7bda"
  },
  "kernelspec": {
   "display_name": "Python 3.10.1 64-bit",
   "language": "python",
   "name": "python3"
  },
  "language_info": {
   "codemirror_mode": {
    "name": "ipython",
    "version": 3
   },
   "file_extension": ".py",
   "mimetype": "text/x-python",
   "name": "python",
   "nbconvert_exporter": "python",
   "pygments_lexer": "ipython3",
   "version": "3.10.1"
  },
  "orig_nbformat": 4
 },
 "nbformat": 4,
 "nbformat_minor": 2
}
